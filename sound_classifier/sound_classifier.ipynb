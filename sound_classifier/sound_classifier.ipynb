{
 "cells": [
  {
   "cell_type": "markdown",
   "id": "IDQoobnl4Naj",
   "metadata": {
    "id": "IDQoobnl4Naj"
   },
   "source": [
    "### Start"
   ]
  },
  {
   "cell_type": "code",
   "execution_count": null,
   "id": "xm87etbPTr80",
   "metadata": {
    "colab": {
     "base_uri": "https://localhost:8080/",
     "height": 304
    },
    "executionInfo": {
     "elapsed": 121778,
     "status": "error",
     "timestamp": 1733001053002,
     "user": {
      "displayName": "Ilya Ya",
      "userId": "03342033783933917263"
     },
     "user_tz": -180
    },
    "id": "xm87etbPTr80",
    "outputId": "643e2866-62f7-499e-eb58-43b40018e0b3"
   },
   "outputs": [],
   "source": [
    "# from google.colab import drive\n",
    "# drive.mount('/content/drive')"
   ]
  },
  {
   "cell_type": "code",
   "execution_count": null,
   "id": "VQXMJxmzT3Tl",
   "metadata": {
    "colab": {
     "base_uri": "https://localhost:8080/"
    },
    "executionInfo": {
     "elapsed": 7993,
     "status": "ok",
     "timestamp": 1732823484573,
     "user": {
      "displayName": "Ilya Ya",
      "userId": "03342033783933917263"
     },
     "user_tz": -180
    },
    "id": "VQXMJxmzT3Tl",
    "outputId": "bfe6015e-9a54-4548-837f-49d9002b84e5"
   },
   "outputs": [
    {
     "name": "stdout",
     "output_type": "stream",
     "text": [
      "Requirement already satisfied: tqdm in /usr/local/lib/python3.10/dist-packages (4.66.6)\n"
     ]
    }
   ],
   "source": [
    "!pip install tqdm"
   ]
  },
  {
   "cell_type": "markdown",
   "id": "obUpTkLC4T3X",
   "metadata": {
    "id": "obUpTkLC4T3X"
   },
   "source": [
    "### Imports"
   ]
  },
  {
   "cell_type": "code",
   "execution_count": null,
   "id": "dc75bb11-a080-4f72-be34-f0a92abdb28b",
   "metadata": {
    "execution": {
     "iopub.execute_input": "2024-11-26T16:02:04.971847Z",
     "iopub.status.busy": "2024-11-26T16:02:04.970911Z",
     "iopub.status.idle": "2024-11-26T16:02:14.391239Z",
     "shell.execute_reply": "2024-11-26T16:02:14.390528Z",
     "shell.execute_reply.started": "2024-11-26T16:02:04.971807Z"
    },
    "id": "dc75bb11-a080-4f72-be34-f0a92abdb28b",
    "tags": []
   },
   "outputs": [],
   "source": [
    "import re\n",
    "import os\n",
    "import json\n",
    "import math\n",
    "import random\n",
    "import time\n",
    "import tarfile\n",
    "import random\n",
    "import numpy as np\n",
    "from datetime import datetime\n",
    "from typing import Optional\n",
    "from collections import Counter\n",
    "from configparser import ConfigParser\n",
    "from typing import List, Dict, Tuple, Optional, Union\n",
    "\n",
    "import torch\n",
    "import torch.nn as nn\n",
    "import torch.nn.functional as F\n",
    "from torch.nn.utils.rnn import pad_sequence\n",
    "from torch.utils.data import DataLoader\n",
    "from torch import Tensor\n",
    "\n",
    "# from tqdm.auto import tqdm, trange\n",
    "\n",
    "import logging\n",
    "import tarfile\n",
    "# from tqdm import tqdm\n",
    "\n",
    "\n",
    "import matplotlib.pyplot as plt\n",
    "import numpy as np\n",
    "import pandas as pd\n",
    "import requests\n",
    "import tqdm.notebook as tqdm\n",
    "import torch.utils.data as torch_data\n",
    "import torchaudio\n",
    "from sklearn.metrics import balanced_accuracy_score\n",
    "\n",
    "from IPython.display import clear_output\n",
    "\n",
    "%matplotlib inline\n",
    "\n"
   ]
  },
  {
   "cell_type": "markdown",
   "id": "yXFD9IwR4XSM",
   "metadata": {
    "id": "yXFD9IwR4XSM"
   },
   "source": [
    "### Служебные"
   ]
  },
  {
   "cell_type": "code",
   "execution_count": null,
   "id": "36fb642d-3092-45cd-be5a-ea3d12f2b376",
   "metadata": {
    "execution": {
     "iopub.execute_input": "2024-11-26T16:02:14.393208Z",
     "iopub.status.busy": "2024-11-26T16:02:14.392557Z",
     "iopub.status.idle": "2024-11-26T16:02:14.418379Z",
     "shell.execute_reply": "2024-11-26T16:02:14.417757Z",
     "shell.execute_reply.started": "2024-11-26T16:02:14.393175Z"
    },
    "id": "36fb642d-3092-45cd-be5a-ea3d12f2b376",
    "tags": []
   },
   "outputs": [],
   "source": [
    "def get_date_id():\n",
    "    now = datetime.now()\n",
    "    date_id = now.strftime(\"%Y%m%d_%H%M%S\")\n",
    "    return date_id\n",
    "\n",
    "\n",
    "# def save_submission(submission:List, save_dir:str):\n",
    "#   os.makedirs(save_dir, exist_ok=True)\n",
    "#   filename = os.path.join(f\"submission_{get_date_id()}.txt\")\n",
    "#   with open(os.path.join(save_dir, filename), \"w\") as f:\n",
    "#       for line in submission:\n",
    "#           f.write(\"{}\\n\".format(\" \".join(list(map(str, map(int, line))))))\n",
    "\n",
    "def save_submission(submission:List[dict], save_dir:str):\n",
    "    os.makedirs(save_dir, exist_ok=True)\n",
    "    filename = os.path.join(f\"submission_{get_date_id()}.jsonl\")\n",
    "    with open(os.path.join(save_dir, filename), \"w\", encoding=\"utf-8\") as f:\n",
    "        for di in submission:\n",
    "            line = json.dumps(di, sort_keys=True, ensure_ascii=False, separators=(',', ':'))\n",
    "            f.write(line+\"\\n\")\n",
    "\n",
    "def save_models(model:nn.Module, optimizer, model_name:str, save_dir:str):\n",
    "    os.makedirs(save_dir, exist_ok=True)\n",
    "    filename = os.path.join(f\"{model_name}_{get_date_id()}.pt\")\n",
    "    try:\n",
    "        # torch.save(model.state_dict(), os.path.join(save_dir, filename))\n",
    "        torch.save({\n",
    "            'model_state_dict': model.state_dict(),\n",
    "            'optimizer_state_dict': optimizer.state_dict()\n",
    "            # 'scheduler_step_dict': scheduler.state_dict()\n",
    "            }, os.path.join(save_dir, filename))\n",
    "    except Exception as e:\n",
    "        print(f\"ошибка в сохранении модели {e}\")\n",
    "\n",
    "def load_weights(model:nn.Module, path:str, device:torch.device):\n",
    "    if os.path.exists(path):\n",
    "        model.load_state_dict(torch.load(path, map_location=device, weights_only=True))\n",
    "        print(f\"Модель успешно загружена из {path}\")\n",
    "    else:\n",
    "        print(\"Путь модели не существует!\")\n",
    "\n",
    "\n",
    "def load_config(path: str) ->ConfigParser:\n",
    "    try:\n",
    "        config = ConfigParser()\n",
    "        config.read(path)\n",
    "        return config\n",
    "    except Exception as e:\n",
    "        print(f\"ошибка чтения конфига {e}\")\n",
    "\n"
   ]
  },
  {
   "cell_type": "code",
   "execution_count": null,
   "id": "0b2e07d9-21aa-4fa1-b406-73cb5ac74c49",
   "metadata": {
    "execution": {
     "iopub.execute_input": "2024-11-26T16:02:14.419594Z",
     "iopub.status.busy": "2024-11-26T16:02:14.419177Z",
     "iopub.status.idle": "2024-11-26T16:02:14.437426Z",
     "shell.execute_reply": "2024-11-26T16:02:14.436743Z",
     "shell.execute_reply.started": "2024-11-26T16:02:14.419564Z"
    },
    "id": "0b2e07d9-21aa-4fa1-b406-73cb5ac74c49",
    "tags": []
   },
   "outputs": [],
   "source": [
    "root = \"/content/drive/MyDrive/nlp_train_contests/2/\"\n",
    "temp_dir = \"/content/sample_data/\"\n",
    "data_dir = os.path.join(temp_dir, \"data\")\n",
    "os.makedirs(data_dir, exist_ok=True)\n",
    "zip_path = os.path.join(root, \"data\", \"ml_trains.tar.gz\")\n",
    "\n",
    "DATADIR = os.path.join(data_dir, 'ml_trains_data')\n",
    "models_dir = os.path.join(root, \"models\")\n",
    "noise_dir = os.path.join(root, \"noises\")\n",
    "log_dir = os.path.join(root, \"log\")\n",
    "LOADER_WORKERS = 0\n",
    "\n",
    "DEVICE = torch.device(\"cuda:0\")"
   ]
  },
  {
   "cell_type": "code",
   "execution_count": null,
   "id": "-OqEVOLnsWFb",
   "metadata": {
    "colab": {
     "base_uri": "https://localhost:8080/"
    },
    "executionInfo": {
     "elapsed": 5,
     "status": "ok",
     "timestamp": 1732823497338,
     "user": {
      "displayName": "Ilya Ya",
      "userId": "03342033783933917263"
     },
     "user_tz": -180
    },
    "id": "-OqEVOLnsWFb",
    "outputId": "a25b2701-46c5-41ab-ac64-22990824fe27"
   },
   "outputs": [
    {
     "name": "stdout",
     "output_type": "stream",
     "text": [
      "/content/sample_data/data\n",
      "/content/drive/MyDrive/nlp_train_contests/2/data/ml_trains.tar.gz\n",
      "/content/sample_data/data/ml_trains_data\n"
     ]
    }
   ],
   "source": [
    "print(data_dir)\n",
    "print(zip_path)\n",
    "print(DATADIR)"
   ]
  },
  {
   "cell_type": "code",
   "execution_count": null,
   "id": "8614b448-a90c-4909-8bf2-82649f9f4e49",
   "metadata": {
    "execution": {
     "iopub.execute_input": "2024-11-26T16:04:33.630704Z",
     "iopub.status.busy": "2024-11-26T16:04:33.629524Z",
     "iopub.status.idle": "2024-11-26T16:04:33.654216Z",
     "shell.execute_reply": "2024-11-26T16:04:33.653486Z",
     "shell.execute_reply.started": "2024-11-26T16:04:33.630666Z"
    },
    "id": "8614b448-a90c-4909-8bf2-82649f9f4e49",
    "tags": []
   },
   "outputs": [],
   "source": [
    "def save_logs(log_file, log_dir, epoch, lr, train_loss, train_acc, val_loss, val_acc):\n",
    "    with open(os.path.join(log_dir, log_file), \"a\") as lf:\n",
    "        lf.write(f'Datetime {get_date_id()}.\\n')\n",
    "        lf.write(f'Epoch {epoch + 1}.\\n')\n",
    "        lf.write(f'lr = {lr} \\n')\n",
    "        lf.write(f'Train loss {train_loss}. Train accuracy {train_acc}.\\n')\n",
    "        lf.write(f'Test loss {val_loss}. Test accuracy {val_acc}\\n')"
   ]
  },
  {
   "cell_type": "code",
   "execution_count": null,
   "id": "e1bbfa4d-d893-463e-a2fd-8e32ff1f857a",
   "metadata": {
    "execution": {
     "iopub.execute_input": "2024-11-26T07:41:11.012137Z",
     "iopub.status.busy": "2024-11-26T07:41:11.009659Z",
     "iopub.status.idle": "2024-11-26T07:41:11.035929Z",
     "shell.execute_reply": "2024-11-26T07:41:11.035128Z",
     "shell.execute_reply.started": "2024-11-26T07:41:11.012100Z"
    },
    "id": "e1bbfa4d-d893-463e-a2fd-8e32ff1f857a",
    "tags": []
   },
   "outputs": [],
   "source": [
    "# ## Для добавления файлов с Яндекс.Диска\n",
    "# import requests\n",
    "# public_key = ''\n",
    "# final_url = f\"https://cloud-api.yandex.net/v1/disk/public/resources/download?public_key={public_key}\"\n",
    "# response = requests.get(final_url)\n",
    "# download_url = response.json()['href']\n",
    "# response = requests.get(download_url)\n",
    "# # Имя файла\n",
    "\n",
    "# with open(dist_path, 'wb') as f:\n",
    "#     f.write(response.content)\n"
   ]
  },
  {
   "cell_type": "code",
   "execution_count": null,
   "id": "e989e9bf-26d3-440d-9abb-dc96446587ca",
   "metadata": {
    "colab": {
     "base_uri": "https://localhost:8080/"
    },
    "execution": {
     "iopub.execute_input": "2024-11-25T20:28:15.568882Z",
     "iopub.status.busy": "2024-11-25T20:28:15.567624Z",
     "iopub.status.idle": "2024-11-25T20:40:03.600501Z",
     "shell.execute_reply": "2024-11-25T20:40:03.599519Z",
     "shell.execute_reply.started": "2024-11-25T20:28:15.568831Z"
    },
    "executionInfo": {
     "elapsed": 345852,
     "status": "ok",
     "timestamp": 1732821696993,
     "user": {
      "displayName": "Ilya Ya",
      "userId": "03342033783933917263"
     },
     "user_tz": -180
    },
    "id": "e989e9bf-26d3-440d-9abb-dc96446587ca",
    "outputId": "84462895-f74b-43be-ff76-ada97cc0f2a5",
    "tags": []
   },
   "outputs": [
    {
     "name": "stderr",
     "output_type": "stream",
     "text": [
      "100%|██████████| 58434/58434 [01:41<00:00, 574.44it/s]\n"
     ]
    }
   ],
   "source": [
    "from tqdm import tqdm\n",
    "with tarfile.open(zip_path) as tar:\n",
    "    for mem in tqdm(iterable=tar.getmembers(), total=len(tar.getmembers())):\n",
    "        try:\n",
    "            tar.extract(mem, data_dir)\n",
    "            # print(member)\n",
    "        except Exception as e:\n",
    "            print(\"Extracting error:\", e)\n",
    "            pass"
   ]
  },
  {
   "cell_type": "code",
   "execution_count": null,
   "id": "o_v-_c53LRnt",
   "metadata": {
    "id": "o_v-_c53LRnt"
   },
   "outputs": [],
   "source": [
    "import tqdm.notebook as tqdm"
   ]
  },
  {
   "cell_type": "markdown",
   "id": "667167ee-75b7-460c-a899-230f9397fc24",
   "metadata": {
    "id": "667167ee-75b7-460c-a899-230f9397fc24"
   },
   "source": [
    "### Отрисовка"
   ]
  },
  {
   "cell_type": "code",
   "execution_count": null,
   "id": "a6007b12-b9b7-41dc-9a84-3b8923e521db",
   "metadata": {
    "execution": {
     "iopub.execute_input": "2024-11-26T16:02:14.454930Z",
     "iopub.status.busy": "2024-11-26T16:02:14.454137Z",
     "iopub.status.idle": "2024-11-26T16:02:14.467889Z",
     "shell.execute_reply": "2024-11-26T16:02:14.466907Z",
     "shell.execute_reply.started": "2024-11-26T16:02:14.454896Z"
    },
    "id": "a6007b12-b9b7-41dc-9a84-3b8923e521db",
    "tags": []
   },
   "outputs": [],
   "source": [
    "import librosa\n",
    "def plot_spectrogram(specgram, title=None, ylabel=\"freq_bin\", ax=None):\n",
    "    if ax is None:\n",
    "        _, ax = plt.subplots(1, 1)\n",
    "    if title is not None:\n",
    "        ax.set_title(title)\n",
    "    ax.set_ylabel(ylabel)\n",
    "    ax.imshow(librosa.power_to_db(specgram), origin=\"lower\", aspect=\"auto\", interpolation=\"nearest\")\n",
    "\n",
    "\n",
    "def plot_waveform(waveform, sr, title=\"Waveform\", ax=None):\n",
    "    waveform = waveform.numpy()\n",
    "\n",
    "    num_channels, num_frames = waveform.shape\n",
    "    time_axis = torch.arange(0, num_frames) / sr\n",
    "\n",
    "    if ax is None:\n",
    "        _, ax = plt.subplots(num_channels, 1)\n",
    "    ax.plot(time_axis, waveform[0], linewidth=1)\n",
    "    ax.grid(True)\n",
    "    ax.set_xlim([0, time_axis[-1]])\n",
    "    ax.set_title(title)"
   ]
  },
  {
   "cell_type": "code",
   "execution_count": null,
   "id": "9a98947d-f6de-44fe-989c-5c821cb03a3f",
   "metadata": {
    "execution": {
     "iopub.execute_input": "2024-11-25T21:04:50.792361Z",
     "iopub.status.busy": "2024-11-25T21:04:50.791634Z",
     "iopub.status.idle": "2024-11-25T21:04:50.821210Z",
     "shell.execute_reply": "2024-11-25T21:04:50.820407Z",
     "shell.execute_reply.started": "2024-11-25T21:04:50.792330Z"
    },
    "id": "9a98947d-f6de-44fe-989c-5c821cb03a3f",
    "tags": []
   },
   "outputs": [],
   "source": [
    "# DEVICE = 'cpu' # also you can use \"cuda\" for gpu and \"mps\" for apple silicon"
   ]
  },
  {
   "cell_type": "markdown",
   "id": "ce48bc30-5e5c-4898-812f-adf436970eba",
   "metadata": {
    "id": "ce48bc30-5e5c-4898-812f-adf436970eba"
   },
   "source": [
    "### Аугментация"
   ]
  },
  {
   "cell_type": "code",
   "execution_count": null,
   "id": "6cee359f-3327-4dc3-872e-85abbd536ab1",
   "metadata": {
    "execution": {
     "iopub.execute_input": "2024-11-26T16:02:14.472613Z",
     "iopub.status.busy": "2024-11-26T16:02:14.468567Z",
     "iopub.status.idle": "2024-11-26T16:02:14.492199Z",
     "shell.execute_reply": "2024-11-26T16:02:14.491380Z",
     "shell.execute_reply.started": "2024-11-26T16:02:14.472584Z"
    },
    "id": "6cee359f-3327-4dc3-872e-85abbd536ab1",
    "tags": []
   },
   "outputs": [],
   "source": [
    "def random_mask_area(sound: torch.tensor):\n",
    "    \"\"\"волна [1, shape]\"\"\"\n",
    "    total_l = sound.shape[1]\n",
    "    mask = torch.ones(size=(total_l,))\n",
    "    for i in range(random.randint(2, 5)):\n",
    "        area_l = total_l // random.randint(15, 35)\n",
    "        pos = random.randint(0, total_l - area_l)\n",
    "        mask[pos:pos + area_l] = 0\n",
    "    mask = mask.unsqueeze(0)\n",
    "    return sound[:, ]*mask\n",
    "\n",
    "def take_random_part(sound: torch.tensor):\n",
    "    \"\"\"волна [1, shape]\"\"\"\n",
    "    total_l = sound.shape[1]\n",
    "    area_l = int(total_l / (random.randint(12, 18)/10))\n",
    "    pos = random.randint(0, total_l - area_l)\n",
    "    crop = sound[:, pos:pos+area_l]\n",
    "    crop=crop.repeat_interleave(2)\n",
    "    crop_len=crop.shape[0]\n",
    "    start=random.randint(0, crop_len-total_l-1)\n",
    "    crop=crop[start:start+total_l]\n",
    "    #print(f\"crop success with {crop.shape}\")\n",
    "    return crop.unsqueeze(0)#  пока заглушка\n",
    "\n",
    "\n",
    "def add_random_noise(signal):\n",
    "    \"\"\"Случайный шум из папки\"\"\"\n",
    "    coef=(random.random()+1)/20.\n",
    "    noise_file = random.choice(os.listdir(noise_dir))\n",
    "    noise_path = os.path.join(noise_dir, noise_file)\n",
    "    noise, _ = torchaudio.load(noise_path, normalize=True)\n",
    "    min_len=min(signal.shape[-1], noise.shape[-1])\n",
    "    new_signal = signal[:, :min_len] + noise[:, :min_len] * coef\n",
    "    return new_signal / torch.max(torch.abs(new_signal))\n",
    "\n",
    "def dummy(signal):\n",
    "    '''ничего не делает'''\n",
    "    return signal\n",
    "\n",
    "def add_gauss(spec):\n",
    "    \"\"\"Добавляет нормальный шум к спектрограмме\"\"\"\n",
    "    gauss = torch.normal(0, 7, size = spec.shape)\n",
    "    return gauss+spec"
   ]
  },
  {
   "cell_type": "markdown",
   "id": "68e41702-3eaf-4853-b94e-709e143414aa",
   "metadata": {
    "id": "68e41702-3eaf-4853-b94e-709e143414aa"
   },
   "source": [
    "### Встроенный датасет"
   ]
  },
  {
   "cell_type": "code",
   "execution_count": null,
   "id": "40d92543-f363-4435-9f12-68f5da32a79a",
   "metadata": {
    "execution": {
     "iopub.execute_input": "2024-11-26T16:02:19.239387Z",
     "iopub.status.busy": "2024-11-26T16:02:19.238364Z",
     "iopub.status.idle": "2024-11-26T16:02:19.258967Z",
     "shell.execute_reply": "2024-11-26T16:02:19.258334Z",
     "shell.execute_reply.started": "2024-11-26T16:02:19.239350Z"
    },
    "id": "40d92543-f363-4435-9f12-68f5da32a79a",
    "tags": []
   },
   "outputs": [],
   "source": [
    "class Dataset(torch_data.Dataset):\n",
    "    def __init__(self, split_part: str, datadir: str, feats: nn.Module, read_labels=True):\n",
    "        super().__init__()\n",
    "        self.split_part=split_part\n",
    "        data = pd.read_csv(os.path.join(datadir, f'{split_part}.tsv'), sep='\\t')\n",
    "        if read_labels:\n",
    "            labels = {key: idx for idx, key in enumerate(sorted(set(data.label.values)))}\n",
    "            self._idx_to_label = {idx: key for idx, key in enumerate(sorted(set(data.label.values)))}\n",
    "            self._classes = len(labels)\n",
    "        else:\n",
    "            self._classes = 30\n",
    "\n",
    "        self.lst = [0, 1,2,3,4]\n",
    "        self.funcs =[dummy, add_gauss, random_mask_area, take_random_part, add_random_noise]\n",
    "        self.probs = [0.6, 0.15, 0.15, 0.05, 0.05] #[0.65, 0.15, 0.1, 0.03, 0.02] | [0.45, 0.3, 0.15, 0.05, 0.05]\n",
    "\n",
    "        self._feats = feats\n",
    "        self._ytids = []\n",
    "        self._pathes = []\n",
    "        self._labels = []\n",
    "        for _, row in data.iterrows():\n",
    "            path = os.path.join(datadir, 'clips', f'{row.YTID}.flac')\n",
    "            if os.path.exists(path):\n",
    "                self._ytids.append(row.YTID)\n",
    "                self._pathes.append(path)\n",
    "                self._labels.append(labels[row.label] if read_labels else 0)\n",
    "        #print(self._labels)\n",
    "        self._df = pd.DataFrame([[y, p, c] for y, p, c in zip(self._ytids, self._pathes, self._labels)], columns=['YTID', 'path', 'code'])\n",
    "        #print(self._df)\n",
    "    def __getitem__(self, index):\n",
    "        try:\n",
    "\n",
    "            anchor_path = self._pathes[index]\n",
    "            anchor_lab = self._labels[index]\n",
    "            anchor_waveform, sample_rate = torchaudio.load(self._pathes[index])\n",
    "            if self.split_part!=\"eval\":\n",
    "                # pos_path=random.choice(self._df.loc[self._df.code==anchor_lab, \"path\"].to_list())\n",
    "                # neg_path=random.choice(self._df.loc[self._df.code!=anchor_lab, \"path\"].to_list())\n",
    "                pos_path=self._df.loc[self._df.code==anchor_lab, :].sample()[\"path\"].to_list()[0]\n",
    "                neg_path=self._df.loc[self._df.code!=anchor_lab, :].sample()[\"path\"].to_list()[0]\n",
    "\n",
    "                pos_waveform, _ = torchaudio.load(pos_path)\n",
    "                neg_waveform, _ = torchaudio.load(neg_path)\n",
    "        except Exception as err:\n",
    "            logging.error(\"Can't read file %s\", self._pathes[index])\n",
    "            raise err\n",
    "        assert sample_rate == 16000\n",
    "        assert anchor_waveform.shape[0] == 1\n",
    "        \"\"\"ТУТ АУГМЕНТАЦИЯ\"\"\"\n",
    "        anchor_rand = np.random.choice(self.lst, p=self.probs)\n",
    "        pos_rand = np.random.choice(self.lst, p=self.probs)\n",
    "        neg_rand = np.random.choice(self.lst, p=self.probs)\n",
    "        #print(f\"a={anchor_rand}, p={pos_rand}, n={neg_rand}\")\n",
    "        if self.split_part==\"train\":\n",
    "            # Если рандом больше 1, то применяем соответствующую аугментацию\n",
    "            if anchor_rand>1:\n",
    "                anchor_waveform = self.funcs[anchor_rand](anchor_waveform)\n",
    "            if pos_rand>1:\n",
    "                pos_waveform = self.funcs[pos_rand](pos_waveform)\n",
    "            if neg_rand>1:\n",
    "                neg_waveform = self.funcs[neg_rand](neg_waveform)\n",
    "        #    randomizer = random.random()\n",
    "        #    if randomizer>0.95:\n",
    "        #        coef=(random.random()+1)/20.\n",
    "        #        anchor_waveform = add_random_noise(anchor_waveform, coef=coef)\n",
    "        #        if self.split_part!=\"eval\":\n",
    "        #            pos_waveform = add_random_noise(pos_waveform, coef=coef)\n",
    "        #    elif randomizer>0.65:\n",
    "        #        anchor_waveform = random_mask_area(anchor_waveform)\n",
    "        #        if self.split_part!=\"eval\":\n",
    "        #            pos_waveform = random_mask_area(pos_waveform)\n",
    "        #    elif randomizer>0.6:\n",
    "        #        anchor_waveform = take_random_part(anchor_waveform)\n",
    "        #        if self.split_part!=\"eval\":\n",
    "        #            pos_waveform = take_random_part(pos_waveform)\n",
    "\n",
    "\n",
    "        #anchor_feats = self._feats(anchor_waveform)[0]\n",
    "        #if self.split_part!=\"eval\":\n",
    "        #    pos_feats = self._feats(pos_waveform)[0]\n",
    "        #    neg_feats = self._feats(neg_waveform)[0]\n",
    "        anchor_feats = self._feats(anchor_waveform)[0]\n",
    "        if anchor_rand==1:\n",
    "            anchor_feats=add_gauss(anchor_feats)\n",
    "        if self.split_part!=\"eval\":\n",
    "            pos_feats = self._feats(pos_waveform)[0]\n",
    "            if pos_rand==1:\n",
    "                pos_feats=add_gauss(pos_feats)\n",
    "            neg_feats = self._feats(neg_waveform)[0]\n",
    "            if neg_rand==1:\n",
    "                neg_feats=add_gauss(neg_feats)\n",
    "        else:\n",
    "            pos_feats = torch.zeros_like(anchor_feats)\n",
    "            neg_feats = torch.zeros_like(anchor_feats)\n",
    "        #return (anchor_feats, pos_feats, neg_feats, self._labels[index])\n",
    "        # Для эвала остальные значения вернуть torch.empty(0)\n",
    "        return {'anchor':anchor_feats,\n",
    "                    'pos':pos_feats,\n",
    "                    'neg':neg_feats,\n",
    "                    'label':self._labels[index]}\n",
    "    def __len__(self) -> int:\n",
    "        return len(self._pathes)\n",
    "\n",
    "    def classes(self) -> int:\n",
    "        return self._classes\n",
    "\n",
    "\n",
    "def collate_fn(batch):\n",
    "    '''функция пакетирования с учетом триплет-лосса'''\n",
    "    max_length = max(max(item['anchor'].shape[1], item['pos'].shape[1], item['neg'].shape[1]) for item in batch)\n",
    "    A = torch.zeros((len(batch), batch[0]['anchor'].shape[0], max_length))\n",
    "    P = torch.zeros((len(batch), batch[0]['pos'].shape[0], max_length))\n",
    "    N = torch.zeros((len(batch), batch[0]['neg'].shape[0], max_length))\n",
    "    for idx, item in enumerate(batch):\n",
    "        A[idx, :, :item['anchor'].shape[1]] = item['anchor']\n",
    "        P[idx, :, :item['pos'].shape[1]]=item['pos']\n",
    "        N[idx, :, :item['neg'].shape[1]]=item['neg']\n",
    "    targets = torch.tensor([item['label'] for item in batch], dtype=torch.long).reshape(len(batch), 1)\n",
    "    return {'anchor':A, 'pos':P, 'neg':N, 'targets':targets}"
   ]
  },
  {
   "cell_type": "code",
   "execution_count": null,
   "id": "50886bbb-8803-45f4-9822-e9fc792005ff",
   "metadata": {
    "colab": {
     "base_uri": "https://localhost:8080/"
    },
    "execution": {
     "iopub.execute_input": "2024-11-26T16:08:05.051254Z",
     "iopub.status.busy": "2024-11-26T16:08:05.050781Z",
     "iopub.status.idle": "2024-11-26T16:08:13.373777Z",
     "shell.execute_reply": "2024-11-26T16:08:13.373107Z",
     "shell.execute_reply.started": "2024-11-26T16:08:05.051226Z"
    },
    "executionInfo": {
     "elapsed": 2648,
     "status": "ok",
     "timestamp": 1732826985341,
     "user": {
      "displayName": "Ilya Ya",
      "userId": "03342033783933917263"
     },
     "user_tz": -180
    },
    "id": "50886bbb-8803-45f4-9822-e9fc792005ff",
    "outputId": "fd43c5d2-8329-4761-8dcf-74ac578c32ec",
    "tags": []
   },
   "outputs": [
    {
     "data": {
      "text/plain": [
       "{'anchor': tensor([[ 18.2911,  35.1760,  17.0199,  ...,  -1.0997,   1.5909,  21.8976],\n",
       "         [ 31.5711,  38.0578,  28.6392,  ..., -12.5369,  -7.1074,   7.6186],\n",
       "         [ 39.9738,  56.8177,  23.2289,  ..., -13.2888,  15.6333,  12.0010],\n",
       "         ...,\n",
       "         [ 15.5628,  17.0883,  39.9133,  ...,  -4.2603,   1.1119,  -8.3726],\n",
       "         [ -4.2786,  27.4492,  27.6823,  ...,   2.5422,  -1.9686,  11.3948],\n",
       "         [  5.6874,   4.6864,  13.1684,  ...,  -6.1780,   2.9257,  -3.7510]]),\n",
       " 'pos': tensor([[ 23.3739,  23.5960,  19.0726,  ...,  18.6210,  17.2988,  15.5835],\n",
       "         [ 24.9059,  16.0390,   5.2711,  ...,  12.1492,  11.0632,  12.1829],\n",
       "         [ 28.8230,  19.5068,  14.3272,  ...,  15.3315,  16.7118,  12.6198],\n",
       "         ...,\n",
       "         [  1.9091,   4.1749,  -2.4452,  ...,  -5.2159,   3.6184,   0.2225],\n",
       "         [ -0.2515,  -1.2884,  -7.6011,  ...,  -9.0397,   0.5807,  -5.5225],\n",
       "         [  1.8812,  -1.6659, -11.1594,  ..., -11.3550,  -4.4619,  -9.8397]]),\n",
       " 'neg': tensor([[  2.9292,   5.3351,  -0.8399,  ...,  -0.6619, -13.7309, -11.7866],\n",
       "         [  9.2397,   2.2775,   6.0670,  ...,  -2.9974,  -2.8177, -10.1618],\n",
       "         [ -4.6013,   8.2571,  -5.0435,  ...,   8.0289,  16.2775,  14.4281],\n",
       "         ...,\n",
       "         [-36.0518, -88.2975, -70.6589,  ..., -88.9776, -78.9539, -30.7019],\n",
       "         [-19.3577, -73.1152, -73.1123,  ..., -63.5015, -78.2905, -30.5723],\n",
       "         [-39.8918, -71.3029, -68.5355,  ..., -65.7082, -82.0962, -39.8696]]),\n",
       " 'label': 14}"
      ]
     },
     "execution_count": 42,
     "metadata": {},
     "output_type": "execute_result"
    }
   ],
   "source": [
    "class LogMelSpectrogram(nn.Module):\n",
    "    pass\n",
    "\n",
    "# FBANK 40 by default, but you can choose something else\n",
    "FEATS = 128\n",
    "transform = nn.Sequential(torchaudio.transforms.MelSpectrogram(n_mels=FEATS, n_fft=2048), #было n_mels=64, n_fft=400\n",
    "                          torchaudio.transforms.AmplitudeToDB())\n",
    "#transform = torchaudio.transforms.MelSpectrogram(n_mels=FEATS, n_fft=2048)\n",
    "trainset = Dataset('train', DATADIR, transform)\n",
    "testset = Dataset('eval', DATADIR, transform, read_labels=False)\n",
    "N_CLASSES = trainset.classes()\n",
    "assert N_CLASSES == 30\n",
    "trainset[0]"
   ]
  },
  {
   "cell_type": "code",
   "execution_count": null,
   "id": "976ce964-7c2b-4ad0-8218-2c7b30fc9808",
   "metadata": {
    "execution": {
     "iopub.execute_input": "2024-11-26T16:03:08.646866Z",
     "iopub.status.busy": "2024-11-26T16:03:08.646147Z",
     "iopub.status.idle": "2024-11-26T16:03:08.658501Z",
     "shell.execute_reply": "2024-11-26T16:03:08.657787Z",
     "shell.execute_reply.started": "2024-11-26T16:03:08.646815Z"
    },
    "id": "976ce964-7c2b-4ad0-8218-2c7b30fc9808",
    "tags": []
   },
   "outputs": [],
   "source": [
    "def balanced_accuracy(items: list[tuple[int, int]], classes=N_CLASSES) -> float:\n",
    "    targets = np.array([el[0] for el in items], dtype = np.int16)\n",
    "    preds = np.array([el[1] for el in items], dtype = np.int16)\n",
    "    BAcc = balanced_accuracy_score(targets, preds)\n",
    "    return BAcc"
   ]
  },
  {
   "cell_type": "code",
   "execution_count": null,
   "id": "7ff56238-f1f8-4357-a44a-926c3446b6bd",
   "metadata": {
    "execution": {
     "iopub.execute_input": "2024-11-26T16:03:10.209069Z",
     "iopub.status.busy": "2024-11-26T16:03:10.208022Z",
     "iopub.status.idle": "2024-11-26T16:03:10.228840Z",
     "shell.execute_reply": "2024-11-26T16:03:10.228179Z",
     "shell.execute_reply.started": "2024-11-26T16:03:10.209029Z"
    },
    "id": "7ff56238-f1f8-4357-a44a-926c3446b6bd",
    "tags": []
   },
   "outputs": [],
   "source": [
    "assert np.isclose(balanced_accuracy([(0, 0), (0, 0), (1, 1)], 2), 1.0)\n",
    "assert np.isclose(balanced_accuracy([(0, 1), (1, 0)], 2), 0.0)\n",
    "assert np.isclose(balanced_accuracy([(0, 0), (0, 0), (1, 0)], 2), 0.5)\n",
    "assert np.isclose(balanced_accuracy([(0, 0), (1, 1), (0, 0), (0, 0), (1, 0), (0, 1)], 2), 0.625)\n",
    "assert np.isclose(balanced_accuracy([(1, 1), (0, 1), (2, 2)], 3), 0.66666666666666)"
   ]
  },
  {
   "cell_type": "code",
   "execution_count": null,
   "id": "hRzZ3n3jDwbB",
   "metadata": {
    "id": "hRzZ3n3jDwbB"
   },
   "outputs": [],
   "source": [
    "import sklearn\n",
    "data = pd.read_csv(os.path.join(DATADIR, f'train.tsv'), sep='\\t')\n",
    "\n",
    "data['code'] = data.label.astype('category').cat.codes\n",
    "# print(data)\n",
    "y = data[\"code\"]\n",
    "y = y.to_numpy()\n",
    "class_weights=sklearn.utils.class_weight.compute_class_weight(class_weight = 'balanced', classes = np.unique(y), y= y)\n",
    "# print(class_weights)"
   ]
  },
  {
   "cell_type": "markdown",
   "id": "a49b19c6-0552-4af6-bb3c-17f45f42b3e7",
   "metadata": {
    "id": "a49b19c6-0552-4af6-bb3c-17f45f42b3e7"
   },
   "source": [
    "### Встроенный трейн"
   ]
  },
  {
   "cell_type": "code",
   "execution_count": null,
   "id": "eeb34f92-c70d-44f9-a591-910844d2e831",
   "metadata": {
    "execution": {
     "iopub.execute_input": "2024-11-26T16:21:54.807517Z",
     "iopub.status.busy": "2024-11-26T16:21:54.806246Z",
     "iopub.status.idle": "2024-11-26T16:21:54.833173Z",
     "shell.execute_reply": "2024-11-26T16:21:54.832453Z",
     "shell.execute_reply.started": "2024-11-26T16:21:54.807445Z"
    },
    "id": "eeb34f92-c70d-44f9-a591-910844d2e831",
    "tags": []
   },
   "outputs": [],
   "source": [
    "def batch_distance(x, y):\n",
    "    return 1.0 - F.cosine_similarity(x, y)\n",
    "\n",
    "\n",
    "loss_1 = nn.CrossEntropyLoss(weight=torch.from_numpy(class_weights).to(DEVICE).float(),reduction='mean')\n",
    "loss_2 = nn.TripletMarginWithDistanceLoss(distance_function=lambda x, y: 1.0- F.cosine_similarity(x, y),\n",
    "                                        margin=0.7)\n",
    "\n",
    "def stage(\n",
    "    model: nn.Module,\n",
    "    data: torch_data.Dataset,\n",
    "    opt: torch.optim.Optimizer,\n",
    "    scheduler,\n",
    "    batch_size: int = 256,\n",
    "    train: bool = True\n",
    "):\n",
    "    loader = torch_data.DataLoader(\n",
    "        data,\n",
    "        batch_size=batch_size,\n",
    "        shuffle=True,\n",
    "        num_workers=LOADER_WORKERS,\n",
    "        collate_fn=collate_fn\n",
    "    )\n",
    "    if train:\n",
    "        model.train()\n",
    "    else:\n",
    "        model.eval()\n",
    "    loss_sum, batches = 0.0, 0\n",
    "    pred_pairs = []\n",
    "    for batched in tqdm.tqdm(loader):\n",
    "        A = batched['anchor']\n",
    "        P = batched['pos']\n",
    "        N = batched['neg']\n",
    "        Y = batched['targets']\n",
    "        pred_anchor = model.forward(A.to(DEVICE))\n",
    "        pred_pos = model.forward(P.to(DEVICE))\n",
    "        pred_neg = model.forward(N.to(DEVICE))\n",
    "        #print(pred_anchor.shape)\n",
    "        #print(pred_anchor.squeeze().shape)\n",
    "\n",
    "        # идея неверная!\n",
    "        # distances_neg = batch_distance(pred_anchor, pred_neg)\n",
    "        # max_neg_idx = torch.argmax(distances_neg).item()\n",
    "        # pred_neg_most = (torch.ones_like(pred_neg)*pred_neg[max_neg_idx]).to(DEVICE)\n",
    "\n",
    "        l1 = loss_1(pred_anchor.squeeze(), Y.squeeze().to(DEVICE))\n",
    "        l2 = loss_2(pred_anchor.squeeze(), pred_pos.squeeze(), pred_neg.squeeze())\n",
    "        loss = l1+l2\n",
    "        if train:\n",
    "            opt.zero_grad()\n",
    "            loss.backward()\n",
    "            opt.step()\n",
    "        else:\n",
    "            scheduler.step()\n",
    "        loss_sum += loss.item()\n",
    "        batches += 1\n",
    "        with torch.no_grad():\n",
    "            pred_pairs.extend(zip(\n",
    "                Y.data.numpy().reshape(-1),\n",
    "                torch.argmax(pred_anchor, dim=1).cpu().data.numpy().reshape(-1)\n",
    "            ))\n",
    "    return loss_sum / batches, balanced_accuracy(pred_pairs)\n",
    "\n",
    "\n",
    "def train(\n",
    "    model: nn.Module,\n",
    "    opt,\n",
    "    scheduler,\n",
    "    batch_size: int = 256,\n",
    "    epochs: int = 10,\n",
    "):\n",
    "    train_data, val_data = torch.utils.data.random_split(trainset, (0.99, 0.01), generator=torch.Generator().manual_seed(42))\n",
    "    train_losses, val_losses, train_accs, val_accs = [], [], [], []\n",
    "    for epoch_idx, epoch in enumerate(range(epochs)):\n",
    "        train_loss, train_acc = stage(model, train_data, opt, scheduler, batch_size=batch_size)\n",
    "        val_data.dataset.split_part=\"val\"\n",
    "        val_loss, val_acc = stage(model, val_data, opt, scheduler, batch_size=batch_size, train=False)\n",
    "        train_data.dataset.split_part=\"train\"\n",
    "        train_losses.append(train_loss)\n",
    "        train_accs.append(train_acc)\n",
    "        val_losses.append(val_loss)\n",
    "        val_accs.append(val_acc)\n",
    "        clear_output()\n",
    "        fig, axis = plt.subplots(1, 2, figsize=(15, 7))\n",
    "        axis[0].plot(np.arange(1, epoch + 2), train_losses, label='train')\n",
    "        axis[0].plot(np.arange(1, epoch + 2), val_losses, label='val')\n",
    "        axis[1].plot(np.arange(1, epoch + 2), train_accs, label='train')\n",
    "        axis[1].plot(np.arange(1, epoch + 2), val_accs, label='val')\n",
    "        axis[0].set(xlabel='epoch', ylabel='CE Loss')\n",
    "        axis[1].set(xlabel='epoch', ylabel='Accuracy')\n",
    "        fig.legend()\n",
    "        plt.show()\n",
    "        print(f'Epoch {epoch + 1}.')\n",
    "        print(f'Train loss {train_loss}. Train accuracy {train_acc}.')\n",
    "        print(f'Test loss {val_loss}. Test accuracy {val_acc}')\n",
    "        # opt.param_groups[0][\"lr\"]\n",
    "        save_logs(\"log.txt\", log_dir, epoch, scheduler.get_lr(), train_loss, train_acc, val_loss, val_acc)\n",
    "        if (epoch_idx+1)%1==0:\n",
    "            save_models(model, model_name = \"triplet_resnet\", optimizer = opt, save_dir = models_dir)"
   ]
  },
  {
   "cell_type": "markdown",
   "id": "4Y3Fseu51FeE",
   "metadata": {
    "id": "4Y3Fseu51FeE"
   },
   "source": [
    "### ResNet18 без последнего блока"
   ]
  },
  {
   "cell_type": "code",
   "execution_count": null,
   "id": "AZGCQ-OD1Dib",
   "metadata": {
    "id": "AZGCQ-OD1Dib"
   },
   "outputs": [],
   "source": [
    "#import torch.nn as nn\n",
    "class BasicBlock(nn.Module):\n",
    "    def __init__(self, in_channels, out_channels, stride=1):\n",
    "        super(BasicBlock, self).__init__()\n",
    "        self.conv1 = nn.Conv2d(in_channels, out_channels, kernel_size=3, stride=stride, padding=1, bias=False)\n",
    "        self.bn1 = nn.BatchNorm2d(out_channels)\n",
    "        self.relu = nn.ReLU(inplace=True)\n",
    "        self.conv2 = nn.Conv2d(out_channels, out_channels, kernel_size=3, stride=1, padding=1, bias=False)\n",
    "        self.bn2 = nn.BatchNorm2d(out_channels)\n",
    "\n",
    "        self.shortcut = nn.Sequential()\n",
    "        if stride != 1 or in_channels != out_channels:\n",
    "            self.shortcut = nn.Sequential(\n",
    "                nn.Conv2d(in_channels, out_channels, kernel_size=1, stride=stride, bias=False),\n",
    "                nn.BatchNorm2d(out_channels)\n",
    "            )\n",
    "    def forward(self, x):\n",
    "        out = self.conv1(x)\n",
    "        out = self.bn1(out)\n",
    "        out = self.relu(out)\n",
    "        out = self.conv2(out)\n",
    "        out = self.bn2(out)\n",
    "        out += self.shortcut(x)\n",
    "        out = self.relu(out)\n",
    "        return out\n",
    "class MyResNet18(nn.Module):\n",
    "    def __init__(self, num_classes=30):\n",
    "        super(MyResNet18, self).__init__()\n",
    "        self.in_channels = 64\n",
    "        self.conv1 = nn.Conv2d(1, 64, kernel_size=3, stride=1, padding=1, bias=False)\n",
    "        self.bn1 = nn.BatchNorm2d(64)\n",
    "        self.relu = nn.ReLU(inplace=True)\n",
    "        self.maxpool = nn.MaxPool2d(kernel_size=3, stride=2, padding=1)\n",
    "\n",
    "        self.layer1 = self._make_layer(BasicBlock, 64, 2, stride=1)\n",
    "        self.layer2 = self._make_layer(BasicBlock, 128, 2, stride=2)\n",
    "        #self.layer3 = self._make_layer(BasicBlock, 256, 2, stride=2)\n",
    "        #self.layer4 = self._make_layer(BasicBlock, 512, 2, stride=2)\n",
    "\n",
    "        self.avgpool = nn.AdaptiveAvgPool2d((1, 1))\n",
    "        self.fc = nn.Linear(128, num_classes)\n",
    "    def _make_layer(self, block, out_channels, num_blocks, stride):\n",
    "        strides = [stride] + [1] * (num_blocks - 1)\n",
    "        layers = []\n",
    "        for stride in strides:\n",
    "            layers.append(block(self.in_channels, out_channels, stride))\n",
    "            self.in_channels = out_channels\n",
    "        return nn.Sequential(*layers)\n",
    "    def forward(self, x):\n",
    "        x=x.unsqueeze(1)\n",
    "        out = self.conv1(x)\n",
    "        out = self.bn1(out)\n",
    "        out = self.relu(out)\n",
    "        out = self.maxpool(out)\n",
    "\n",
    "        out = self.layer1(out)\n",
    "        out = self.layer2(out)\n",
    "        #out = self.layer3(out)\n",
    "        #out = self.layer4(out)\n",
    "\n",
    "        out = self.avgpool(out)\n",
    "        out = out.view(out.size(0), -1)\n",
    "        out = self.fc(out)\n",
    "        return out\n"
   ]
  },
  {
   "cell_type": "code",
   "execution_count": null,
   "id": "LnPLe28Df-0V",
   "metadata": {
    "colab": {
     "base_uri": "https://localhost:8080/"
    },
    "executionInfo": {
     "elapsed": 397,
     "status": "ok",
     "timestamp": 1732823570081,
     "user": {
      "displayName": "Ilya Ya",
      "userId": "03342033783933917263"
     },
     "user_tz": -180
    },
    "id": "LnPLe28Df-0V",
    "outputId": "21e1185b-143d-452e-88c4-1794cdeb64e3"
   },
   "outputs": [
    {
     "name": "stdout",
     "output_type": "stream",
     "text": [
      "MyResNet18(\n",
      "  (conv1): Conv2d(1, 64, kernel_size=(3, 3), stride=(1, 1), padding=(1, 1), bias=False)\n",
      "  (bn1): BatchNorm2d(64, eps=1e-05, momentum=0.1, affine=True, track_running_stats=True)\n",
      "  (relu): ReLU(inplace=True)\n",
      "  (maxpool): MaxPool2d(kernel_size=3, stride=2, padding=1, dilation=1, ceil_mode=False)\n",
      "  (layer1): Sequential(\n",
      "    (0): BasicBlock(\n",
      "      (conv1): Conv2d(64, 64, kernel_size=(3, 3), stride=(1, 1), padding=(1, 1), bias=False)\n",
      "      (bn1): BatchNorm2d(64, eps=1e-05, momentum=0.1, affine=True, track_running_stats=True)\n",
      "      (relu): ReLU(inplace=True)\n",
      "      (conv2): Conv2d(64, 64, kernel_size=(3, 3), stride=(1, 1), padding=(1, 1), bias=False)\n",
      "      (bn2): BatchNorm2d(64, eps=1e-05, momentum=0.1, affine=True, track_running_stats=True)\n",
      "      (shortcut): Sequential()\n",
      "    )\n",
      "    (1): BasicBlock(\n",
      "      (conv1): Conv2d(64, 64, kernel_size=(3, 3), stride=(1, 1), padding=(1, 1), bias=False)\n",
      "      (bn1): BatchNorm2d(64, eps=1e-05, momentum=0.1, affine=True, track_running_stats=True)\n",
      "      (relu): ReLU(inplace=True)\n",
      "      (conv2): Conv2d(64, 64, kernel_size=(3, 3), stride=(1, 1), padding=(1, 1), bias=False)\n",
      "      (bn2): BatchNorm2d(64, eps=1e-05, momentum=0.1, affine=True, track_running_stats=True)\n",
      "      (shortcut): Sequential()\n",
      "    )\n",
      "  )\n",
      "  (layer2): Sequential(\n",
      "    (0): BasicBlock(\n",
      "      (conv1): Conv2d(64, 128, kernel_size=(3, 3), stride=(2, 2), padding=(1, 1), bias=False)\n",
      "      (bn1): BatchNorm2d(128, eps=1e-05, momentum=0.1, affine=True, track_running_stats=True)\n",
      "      (relu): ReLU(inplace=True)\n",
      "      (conv2): Conv2d(128, 128, kernel_size=(3, 3), stride=(1, 1), padding=(1, 1), bias=False)\n",
      "      (bn2): BatchNorm2d(128, eps=1e-05, momentum=0.1, affine=True, track_running_stats=True)\n",
      "      (shortcut): Sequential(\n",
      "        (0): Conv2d(64, 128, kernel_size=(1, 1), stride=(2, 2), bias=False)\n",
      "        (1): BatchNorm2d(128, eps=1e-05, momentum=0.1, affine=True, track_running_stats=True)\n",
      "      )\n",
      "    )\n",
      "    (1): BasicBlock(\n",
      "      (conv1): Conv2d(128, 128, kernel_size=(3, 3), stride=(1, 1), padding=(1, 1), bias=False)\n",
      "      (bn1): BatchNorm2d(128, eps=1e-05, momentum=0.1, affine=True, track_running_stats=True)\n",
      "      (relu): ReLU(inplace=True)\n",
      "      (conv2): Conv2d(128, 128, kernel_size=(3, 3), stride=(1, 1), padding=(1, 1), bias=False)\n",
      "      (bn2): BatchNorm2d(128, eps=1e-05, momentum=0.1, affine=True, track_running_stats=True)\n",
      "      (shortcut): Sequential()\n",
      "    )\n",
      "  )\n",
      "  (avgpool): AdaptiveAvgPool2d(output_size=(1, 1))\n",
      "  (fc): Linear(in_features=128, out_features=30, bias=True)\n",
      ")\n",
      "678110\n"
     ]
    }
   ],
   "source": [
    "model = MyResNet18()\n",
    "print(model)\n",
    "print(sum([p.numel() for p in model.parameters()]))"
   ]
  },
  {
   "cell_type": "markdown",
   "id": "fbd4991c-1fae-46aa-8d6a-b132b0e902e7",
   "metadata": {
    "id": "fbd4991c-1fae-46aa-8d6a-b132b0e902e7",
    "tags": []
   },
   "source": [
    "### Проверки"
   ]
  },
  {
   "cell_type": "code",
   "execution_count": null,
   "id": "a62420af-c317-43eb-bfc1-a8e710ec15c2",
   "metadata": {
    "execution": {
     "iopub.execute_input": "2024-11-26T16:07:50.008527Z",
     "iopub.status.busy": "2024-11-26T16:07:50.007788Z",
     "iopub.status.idle": "2024-11-26T16:07:50.030503Z",
     "shell.execute_reply": "2024-11-26T16:07:50.029906Z",
     "shell.execute_reply.started": "2024-11-26T16:07:50.008490Z"
    },
    "id": "a62420af-c317-43eb-bfc1-a8e710ec15c2",
    "tags": []
   },
   "outputs": [],
   "source": [
    "train_data, val_data = torch.utils.data.random_split(trainset, (0.9, 0.1), generator=torch.Generator().manual_seed(42))\n",
    "val_data.dataset.split_part=\"train\"\n",
    "loader = torch_data.DataLoader(\n",
    "        val_data,\n",
    "        batch_size=4,\n",
    "        shuffle=True,\n",
    "        num_workers=LOADER_WORKERS,\n",
    "        collate_fn=collate_fn\n",
    "    )"
   ]
  },
  {
   "cell_type": "code",
   "execution_count": null,
   "id": "7e2add1f-842e-453d-b8d2-bcf23699db45",
   "metadata": {
    "colab": {
     "base_uri": "https://localhost:8080/",
     "height": 524
    },
    "execution": {
     "iopub.execute_input": "2024-11-26T16:07:52.764485Z",
     "iopub.status.busy": "2024-11-26T16:07:52.763322Z",
     "iopub.status.idle": "2024-11-26T16:07:55.803935Z",
     "shell.execute_reply": "2024-11-26T16:07:55.803153Z",
     "shell.execute_reply.started": "2024-11-26T16:07:52.764445Z"
    },
    "executionInfo": {
     "elapsed": 2198,
     "status": "ok",
     "timestamp": 1732731594417,
     "user": {
      "displayName": "Ilya Ya",
      "userId": "03342033783933917263"
     },
     "user_tz": -180
    },
    "id": "7e2add1f-842e-453d-b8d2-bcf23699db45",
    "outputId": "3a090993-ef3a-4c49-b807-a12c9320f11f",
    "tags": []
   },
   "outputs": [
    {
     "name": "stdout",
     "output_type": "stream",
     "text": [
      "tensor([[17],\n",
      "        [ 9],\n",
      "        [23],\n",
      "        [20]])\n"
     ]
    },
    {
     "data": {
      "text/plain": [
       "<matplotlib.image.AxesImage at 0x7eee8170ee60>"
      ]
     },
     "execution_count": 23,
     "metadata": {},
     "output_type": "execute_result"
    },
    {
     "data": {
      "image/png": "[encoded data removed]",
      "text/plain": [
       "<Figure size 588.75x480 with 1 Axes>"
      ]
     },
     "metadata": {},
     "output_type": "display_data"
    }
   ],
   "source": [
    "print(next(iter(loader))['targets'])\n",
    "img = next(iter(loader))['anchor'][0]\n",
    "plt.matshow(img)"
   ]
  },
  {
   "cell_type": "code",
   "execution_count": null,
   "id": "b36a8cd3-96cb-4dbc-9499-c242def5ed34",
   "metadata": {
    "colab": {
     "base_uri": "https://localhost:8080/"
    },
    "execution": {
     "iopub.execute_input": "2024-11-26T10:35:15.702114Z",
     "iopub.status.busy": "2024-11-26T10:35:15.700871Z",
     "iopub.status.idle": "2024-11-26T10:35:25.439775Z",
     "shell.execute_reply": "2024-11-26T10:35:25.439006Z",
     "shell.execute_reply.started": "2024-11-26T10:35:15.702076Z"
    },
    "executionInfo": {
     "elapsed": 1357,
     "status": "ok",
     "timestamp": 1732731725147,
     "user": {
      "displayName": "Ilya Ya",
      "userId": "03342033783933917263"
     },
     "user_tz": -180
    },
    "id": "b36a8cd3-96cb-4dbc-9499-c242def5ed34",
    "outputId": "fb414387-a1ac-4942-d62f-6fcb9593265b",
    "tags": []
   },
   "outputs": [
    {
     "data": {
      "text/plain": [
       "torch.Size([4, 30])"
      ]
     },
     "execution_count": 27,
     "metadata": {},
     "output_type": "execute_result"
    }
   ],
   "source": [
    "model = MyResNet18()\n",
    "model(next(iter(loader))['anchor']).shape"
   ]
  },
  {
   "cell_type": "markdown",
   "id": "e0bbfc68-bf57-4a6a-8abc-23540d7430aa",
   "metadata": {
    "id": "e0bbfc68-bf57-4a6a-8abc-23540d7430aa"
   },
   "source": [
    "### Трейн"
   ]
  },
  {
   "cell_type": "code",
   "execution_count": null,
   "id": "0ef2482a-afee-4532-a79f-f58b134e0b6d",
   "metadata": {
    "execution": {
     "iopub.execute_input": "2024-11-26T16:22:01.662692Z",
     "iopub.status.busy": "2024-11-26T16:22:01.661662Z"
    },
    "id": "0ef2482a-afee-4532-a79f-f58b134e0b6d",
    "tags": []
   },
   "outputs": [],
   "source": [
    "torch.cuda.empty_cache()\n",
    "\n",
    "model = MyResNet18().to(DEVICE)\n",
    "# print(model.parameters())\n",
    "\n",
    "opt = torch.optim.Adam(model.parameters(), lr=0.01, foreach=False)\n",
    "scheduler =torch.optim.lr_scheduler.PolynomialLR(opt, 21*60) #lr меняем на последний полученный\n",
    "# scheduler = torch.optim.lr_scheduler.ReduceLROnPlateau(opt, factor=0.5, patience=200)\n",
    "\n",
    "# checkpoint = torch.load(os.path.join(models_dir, \"triplet_resnet__20241128_123130.pt\"), weights_only=True, map_location=DEVICE)\n",
    "# model.load_state_dict(checkpoint[\"model_state_dict\"])\n",
    "# opt.load_state_dict(checkpoint[\"optimizer_state_dict\"])\n",
    "\n",
    "train(model, opt, scheduler, batch_size=64, epochs = 40)"
   ]
  },
  {
   "cell_type": "markdown",
   "id": "E7cYcKYxIIAI",
   "metadata": {
    "id": "E7cYcKYxIIAI"
   },
   "source": [
    "### Eval"
   ]
  },
  {
   "cell_type": "code",
   "execution_count": null,
   "id": "AGzwjz_0IHdA",
   "metadata": {
    "id": "AGzwjz_0IHdA"
   },
   "outputs": [],
   "source": [
    "os.makedirs(os.path.join(root, \"results\"), exist_ok=True)"
   ]
  },
  {
   "cell_type": "code",
   "execution_count": null,
   "id": "e9278398-2b52-48e4-a1ec-9ca13bc20515",
   "metadata": {
    "colab": {
     "base_uri": "https://localhost:8080/",
     "height": 49,
     "referenced_widgets": [
      "264975719a3b4f38aa359e6bc36e672a",
      "0f17fa785a0d4a5082171213056bab85",
      "490cfbf88f63487fa2528c4275eb8c2c",
      "e4dbe0622ac64ef690a5bb274f4e430b",
      "d88703c894ca4499827c0548adb9c0d4",
      "a476979ffd5747a5ad89ff379ad59930",
      "482d1e8160ad4ca2bceafc6f0239adf5",
      "2ea307c6ec2443e3b66e568de20fd335",
      "da09a44cb33a4931bfa76b0737287ea6",
      "e5048f1a473342539267687db00669eb",
      "68af9c011a8f439bb5aad0d552b8b7fe"
     ]
    },
    "execution": {
     "iopub.status.busy": "2024-11-26T11:25:59.960929Z",
     "iopub.status.idle": "2024-11-26T11:25:59.961783Z",
     "shell.execute_reply": "2024-11-26T11:25:59.961325Z",
     "shell.execute_reply.started": "2024-11-26T11:25:59.961304Z"
    },
    "executionInfo": {
     "elapsed": 44505,
     "status": "ok",
     "timestamp": 1732829078012,
     "user": {
      "displayName": "Ilya Ya",
      "userId": "03342033783933917263"
     },
     "user_tz": -180
    },
    "id": "e9278398-2b52-48e4-a1ec-9ca13bc20515",
    "outputId": "dc879c6b-df30-45e6-ab9d-466be708fe76",
    "tags": []
   },
   "outputs": [
    {
     "data": {
      "application/vnd.jupyter.widget-view+json": {
       "model_id": "264975719a3b4f38aa359e6bc36e672a",
       "version_major": 2,
       "version_minor": 0
      },
      "text/plain": [
       "  0%|          | 0/3000 [00:00<?, ?it/s]"
      ]
     },
     "metadata": {},
     "output_type": "display_data"
    }
   ],
   "source": [
    "result = []\n",
    "for idx, ytid in enumerate(tqdm.tqdm(testset._ytids)):\n",
    "    model.eval()\n",
    "    with torch.no_grad():\n",
    "        testdict = testset[idx]\n",
    "        feats = testdict['anchor']\n",
    "        pred_anchor = model.forward(feats.unsqueeze(0).to(DEVICE))\n",
    "        predict = torch.argmax(pred_anchor, dim=1).cpu().data.numpy().reshape(-1)[0]\n",
    "        result.append((ytid, trainset._idx_to_label[predict]))\n",
    "\n",
    "pd.DataFrame(result, columns=['YTID', 'label']).to_csv(os.path.join(root, \"results\", f'result_{get_date_id()}.tsv'), sep='\\t', index=False)"
   ]
  }
 ],
 "metadata": {
  "accelerator": "GPU",
  "colab": {
   "collapsed_sections": [
    "e0bbfc68-bf57-4a6a-8abc-23540d7430aa",
    "mEkDFLi9ddF6"
   ],
   "gpuType": "T4",
   "provenance": []
  },
  "kernelspec": {
   "display_name": "Python 3 (ipykernel)",
   "language": "python",
   "name": "python3"
  },
  "language_info": {
   "codemirror_mode": {
    "name": "ipython",
    "version": 3
   },
   "file_extension": ".py",
   "mimetype": "text/x-python",
   "name": "python",
   "nbconvert_exporter": "python",
   "pygments_lexer": "ipython3",
   "version": "3.11.8"
  },
  "toc-showcode": false,
  "widgets": {
   "application/vnd.jupyter.widget-state+json": {
    "0f17fa785a0d4a5082171213056bab85": {
     "model_module": "@jupyter-widgets/controls",
     "model_module_version": "1.5.0",
     "model_name": "HTMLModel",
     "state": {
      "_dom_classes": [],
      "_model_module": "@jupyter-widgets/controls",
      "_model_module_version": "1.5.0",
      "_model_name": "HTMLModel",
      "_view_count": null,
      "_view_module": "@jupyter-widgets/controls",
      "_view_module_version": "1.5.0",
      "_view_name": "HTMLView",
      "description": "",
      "description_tooltip": null,
      "layout": "IPY_MODEL_a476979ffd5747a5ad89ff379ad59930",
      "placeholder": "​",
      "style": "IPY_MODEL_482d1e8160ad4ca2bceafc6f0239adf5",
      "value": "100%"
     }
    },
    "264975719a3b4f38aa359e6bc36e672a": {
     "model_module": "@jupyter-widgets/controls",
     "model_module_version": "1.5.0",
     "model_name": "HBoxModel",
     "state": {
      "_dom_classes": [],
      "_model_module": "@jupyter-widgets/controls",
      "_model_module_version": "1.5.0",
      "_model_name": "HBoxModel",
      "_view_count": null,
      "_view_module": "@jupyter-widgets/controls",
      "_view_module_version": "1.5.0",
      "_view_name": "HBoxView",
      "box_style": "",
      "children": [
       "IPY_MODEL_0f17fa785a0d4a5082171213056bab85",
       "IPY_MODEL_490cfbf88f63487fa2528c4275eb8c2c",
       "IPY_MODEL_e4dbe0622ac64ef690a5bb274f4e430b"
      ],
      "layout": "IPY_MODEL_d88703c894ca4499827c0548adb9c0d4"
     }
    },
    "2ea307c6ec2443e3b66e568de20fd335": {
     "model_module": "@jupyter-widgets/base",
     "model_module_version": "1.2.0",
     "model_name": "LayoutModel",
     "state": {
      "_model_module": "@jupyter-widgets/base",
      "_model_module_version": "1.2.0",
      "_model_name": "LayoutModel",
      "_view_count": null,
      "_view_module": "@jupyter-widgets/base",
      "_view_module_version": "1.2.0",
      "_view_name": "LayoutView",
      "align_content": null,
      "align_items": null,
      "align_self": null,
      "border": null,
      "bottom": null,
      "display": null,
      "flex": null,
      "flex_flow": null,
      "grid_area": null,
      "grid_auto_columns": null,
      "grid_auto_flow": null,
      "grid_auto_rows": null,
      "grid_column": null,
      "grid_gap": null,
      "grid_row": null,
      "grid_template_areas": null,
      "grid_template_columns": null,
      "grid_template_rows": null,
      "height": null,
      "justify_content": null,
      "justify_items": null,
      "left": null,
      "margin": null,
      "max_height": null,
      "max_width": null,
      "min_height": null,
      "min_width": null,
      "object_fit": null,
      "object_position": null,
      "order": null,
      "overflow": null,
      "overflow_x": null,
      "overflow_y": null,
      "padding": null,
      "right": null,
      "top": null,
      "visibility": null,
      "width": null
     }
    },
    "482d1e8160ad4ca2bceafc6f0239adf5": {
     "model_module": "@jupyter-widgets/controls",
     "model_module_version": "1.5.0",
     "model_name": "DescriptionStyleModel",
     "state": {
      "_model_module": "@jupyter-widgets/controls",
      "_model_module_version": "1.5.0",
      "_model_name": "DescriptionStyleModel",
      "_view_count": null,
      "_view_module": "@jupyter-widgets/base",
      "_view_module_version": "1.2.0",
      "_view_name": "StyleView",
      "description_width": ""
     }
    },
    "490cfbf88f63487fa2528c4275eb8c2c": {
     "model_module": "@jupyter-widgets/controls",
     "model_module_version": "1.5.0",
     "model_name": "FloatProgressModel",
     "state": {
      "_dom_classes": [],
      "_model_module": "@jupyter-widgets/controls",
      "_model_module_version": "1.5.0",
      "_model_name": "FloatProgressModel",
      "_view_count": null,
      "_view_module": "@jupyter-widgets/controls",
      "_view_module_version": "1.5.0",
      "_view_name": "ProgressView",
      "bar_style": "success",
      "description": "",
      "description_tooltip": null,
      "layout": "IPY_MODEL_2ea307c6ec2443e3b66e568de20fd335",
      "max": 3000,
      "min": 0,
      "orientation": "horizontal",
      "style": "IPY_MODEL_da09a44cb33a4931bfa76b0737287ea6",
      "value": 3000
     }
    },
    "68af9c011a8f439bb5aad0d552b8b7fe": {
     "model_module": "@jupyter-widgets/controls",
     "model_module_version": "1.5.0",
     "model_name": "DescriptionStyleModel",
     "state": {
      "_model_module": "@jupyter-widgets/controls",
      "_model_module_version": "1.5.0",
      "_model_name": "DescriptionStyleModel",
      "_view_count": null,
      "_view_module": "@jupyter-widgets/base",
      "_view_module_version": "1.2.0",
      "_view_name": "StyleView",
      "description_width": ""
     }
    },
    "a476979ffd5747a5ad89ff379ad59930": {
     "model_module": "@jupyter-widgets/base",
     "model_module_version": "1.2.0",
     "model_name": "LayoutModel",
     "state": {
      "_model_module": "@jupyter-widgets/base",
      "_model_module_version": "1.2.0",
      "_model_name": "LayoutModel",
      "_view_count": null,
      "_view_module": "@jupyter-widgets/base",
      "_view_module_version": "1.2.0",
      "_view_name": "LayoutView",
      "align_content": null,
      "align_items": null,
      "align_self": null,
      "border": null,
      "bottom": null,
      "display": null,
      "flex": null,
      "flex_flow": null,
      "grid_area": null,
      "grid_auto_columns": null,
      "grid_auto_flow": null,
      "grid_auto_rows": null,
      "grid_column": null,
      "grid_gap": null,
      "grid_row": null,
      "grid_template_areas": null,
      "grid_template_columns": null,
      "grid_template_rows": null,
      "height": null,
      "justify_content": null,
      "justify_items": null,
      "left": null,
      "margin": null,
      "max_height": null,
      "max_width": null,
      "min_height": null,
      "min_width": null,
      "object_fit": null,
      "object_position": null,
      "order": null,
      "overflow": null,
      "overflow_x": null,
      "overflow_y": null,
      "padding": null,
      "right": null,
      "top": null,
      "visibility": null,
      "width": null
     }
    },
    "d88703c894ca4499827c0548adb9c0d4": {
     "model_module": "@jupyter-widgets/base",
     "model_module_version": "1.2.0",
     "model_name": "LayoutModel",
     "state": {
      "_model_module": "@jupyter-widgets/base",
      "_model_module_version": "1.2.0",
      "_model_name": "LayoutModel",
      "_view_count": null,
      "_view_module": "@jupyter-widgets/base",
      "_view_module_version": "1.2.0",
      "_view_name": "LayoutView",
      "align_content": null,
      "align_items": null,
      "align_self": null,
      "border": null,
      "bottom": null,
      "display": null,
      "flex": null,
      "flex_flow": null,
      "grid_area": null,
      "grid_auto_columns": null,
      "grid_auto_flow": null,
      "grid_auto_rows": null,
      "grid_column": null,
      "grid_gap": null,
      "grid_row": null,
      "grid_template_areas": null,
      "grid_template_columns": null,
      "grid_template_rows": null,
      "height": null,
      "justify_content": null,
      "justify_items": null,
      "left": null,
      "margin": null,
      "max_height": null,
      "max_width": null,
      "min_height": null,
      "min_width": null,
      "object_fit": null,
      "object_position": null,
      "order": null,
      "overflow": null,
      "overflow_x": null,
      "overflow_y": null,
      "padding": null,
      "right": null,
      "top": null,
      "visibility": null,
      "width": null
     }
    },
    "da09a44cb33a4931bfa76b0737287ea6": {
     "model_module": "@jupyter-widgets/controls",
     "model_module_version": "1.5.0",
     "model_name": "ProgressStyleModel",
     "state": {
      "_model_module": "@jupyter-widgets/controls",
      "_model_module_version": "1.5.0",
      "_model_name": "ProgressStyleModel",
      "_view_count": null,
      "_view_module": "@jupyter-widgets/base",
      "_view_module_version": "1.2.0",
      "_view_name": "StyleView",
      "bar_color": null,
      "description_width": ""
     }
    },
    "e4dbe0622ac64ef690a5bb274f4e430b": {
     "model_module": "@jupyter-widgets/controls",
     "model_module_version": "1.5.0",
     "model_name": "HTMLModel",
     "state": {
      "_dom_classes": [],
      "_model_module": "@jupyter-widgets/controls",
      "_model_module_version": "1.5.0",
      "_model_name": "HTMLModel",
      "_view_count": null,
      "_view_module": "@jupyter-widgets/controls",
      "_view_module_version": "1.5.0",
      "_view_name": "HTMLView",
      "description": "",
      "description_tooltip": null,
      "layout": "IPY_MODEL_e5048f1a473342539267687db00669eb",
      "placeholder": "​",
      "style": "IPY_MODEL_68af9c011a8f439bb5aad0d552b8b7fe",
      "value": " 3000/3000 [00:43&lt;00:00, 65.87it/s]"
     }
    },
    "e5048f1a473342539267687db00669eb": {
     "model_module": "@jupyter-widgets/base",
     "model_module_version": "1.2.0",
     "model_name": "LayoutModel",
     "state": {
      "_model_module": "@jupyter-widgets/base",
      "_model_module_version": "1.2.0",
      "_model_name": "LayoutModel",
      "_view_count": null,
      "_view_module": "@jupyter-widgets/base",
      "_view_module_version": "1.2.0",
      "_view_name": "LayoutView",
      "align_content": null,
      "align_items": null,
      "align_self": null,
      "border": null,
      "bottom": null,
      "display": null,
      "flex": null,
      "flex_flow": null,
      "grid_area": null,
      "grid_auto_columns": null,
      "grid_auto_flow": null,
      "grid_auto_rows": null,
      "grid_column": null,
      "grid_gap": null,
      "grid_row": null,
      "grid_template_areas": null,
      "grid_template_columns": null,
      "grid_template_rows": null,
      "height": null,
      "justify_content": null,
      "justify_items": null,
      "left": null,
      "margin": null,
      "max_height": null,
      "max_width": null,
      "min_height": null,
      "min_width": null,
      "object_fit": null,
      "object_position": null,
      "order": null,
      "overflow": null,
      "overflow_x": null,
      "overflow_y": null,
      "padding": null,
      "right": null,
      "top": null,
      "visibility": null,
      "width": null
     }
    }
   }
  }
 },
 "nbformat": 4,
 "nbformat_minor": 5
}
